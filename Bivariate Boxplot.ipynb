{
  "nbformat": 4,
  "nbformat_minor": 0,
  "metadata": {
    "colab": {
      "provenance": [],
      "collapsed_sections": []
    },
    "kernelspec": {
      "name": "python3",
      "display_name": "Python 3"
    },
    "language_info": {
      "name": "python"
    }
  },
  "cells": [
    {
      "cell_type": "markdown",
      "source": [
        "# **The Bivariate Boxplot**\n",
        "## **Introduction**\n",
        "The boxplot is an excellent method for summarizing univariate data and identifying outliers. However, when we have multivariate data, using  individual boxplots is insufficient to understand our data. The reason for this is that individual boxplots do not take into account the relationship between variables. The bivariate boxplot is a boxplot extension that allows us to analyse two variables jointly. The bivariate boxplot, like the boxplot, is very useful for identifying outliers.\n",
        "\n",
        "Bivariate boxplots are not implemented in Python, but they are in R. So, in order to perform this assignment in a Python environment, I will use the rpy2 package, which allows Python to call R functions.\n",
        "\n",
        "The following sections are included in this document:\n",
        "1. Required steps for using rpy2 in notebooks\n",
        "2. Description of the bivariate boxplot and some examples of its use\n",
        "3. Other reasons to use rpy2 "
      ],
      "metadata": {
        "id": "0le3adT3zlo_"
      }
    },
    {
      "cell_type": "markdown",
      "source": [
        "## **Required steps for using rpy2 in notebooks**\n",
        "### Requirements\n",
        "\"Currently the development is done on UNIX-like operating systems with the following software versions. Those are the recommended versions to run rpy2 with: Python >= 3.7, R >= 4.0.\n",
        "\n",
        "**Note**: Running rpy2 on Windows is currently not supported although relative success was recently reported with the lastest in the 3.3.x series\" (*rpy2 3.5.4 documentation, Requirements*).\n",
        "\n",
        "I didn't have access to a PC with a UNIX-like operating system, so I used Google's Colab, which runs notebooks on a LINUX virtual machine. Furthermore, rpy2 is working with Google's Colab, according to the documentation (*rpy2 3.5.4 documentation, Using rpy2 in notebooks*).\n",
        "\n",
        "\n"
      ],
      "metadata": {
        "id": "PsVW0dCpzmJa"
      }
    },
    {
      "cell_type": "markdown",
      "source": [
        "### Installing rpy2\n",
        "In Google's Colab environment, rpy2 is already installed. However, the latest versions of rpy2 have some issues, so we must install an earlier one - rpy2 3.5.1 (https://stackoverflow.com/questions/74283327/conversion-py2rpy-not-defined-for-objects-of-type-class-str/74414817)"
      ],
      "metadata": {
        "id": "wEVVf5mLNuh3"
      }
    },
    {
      "cell_type": "code",
      "source": [
        "!pip install rpy2==3.5.1"
      ],
      "metadata": {
        "id": "uMaztPrOTut7"
      },
      "execution_count": null,
      "outputs": []
    },
    {
      "cell_type": "markdown",
      "source": [
        "### Importing useful rpy2 packages\n",
        "To have the ability to convert a pandas dataframe into a R dataframe, we must perform the following import (*rpy2 3.5.4 documentation, R and pandas data frames*):"
      ],
      "metadata": {
        "id": "tW-V3X1Jzo-B"
      }
    },
    {
      "cell_type": "code",
      "source": [
        "from rpy2 import robjects as ro\n",
        "from rpy2.robjects import pandas2ri\n",
        "from rpy2.robjects.conversion import localconverter"
      ],
      "metadata": {
        "id": "hmfVnwpQV_Yn"
      },
      "execution_count": 116,
      "outputs": []
    },
    {
      "cell_type": "markdown",
      "source": [
        "### Loading Rmagic\n",
        "Rmagic allows us to run code in R and return results back. This requires the rpy2 IPython extension to be loaded. When it is loaded, we can use magic commands (*rpy2 3.5.4 documentation, Interactive work*):\n",
        "\n",
        "* %R - to execute one line in R;\n",
        "* %%R - to execute the entire cell in R.\n",
        "\n",
        "\n"
      ],
      "metadata": {
        "id": "Lx8F_60JWDDA"
      }
    },
    {
      "cell_type": "code",
      "source": [
        "%load_ext rpy2.ipython"
      ],
      "metadata": {
        "id": "SEyfphNZWF6X"
      },
      "execution_count": null,
      "outputs": []
    },
    {
      "cell_type": "markdown",
      "source": [
        "### Installing and importing R packages\n",
        "In order to create the bivariate boxplot, we will use the R package MVA. The MVA package contains functions from the book \"An Introduction to Applied Multivariate Analysis with R\" by Brian S. Everitt and Torsten Hothorn."
      ],
      "metadata": {
        "id": "e0y97esDWJQl"
      }
    },
    {
      "cell_type": "code",
      "source": [
        "%%R\n",
        "# Install R package MVA\n",
        "install.packages('MVA')\n",
        "# Import R package MVA\n",
        "library('MVA')"
      ],
      "metadata": {
        "id": "RaWOIBKqWNUm"
      },
      "execution_count": null,
      "outputs": []
    },
    {
      "cell_type": "markdown",
      "source": [
        "In addition, we will look at the bagplot, which is a bivariate boxplot alternative. We'll need the R package aplpack for this. The package aplpack contains many functions for creating interesting visualizations that are worth investigating."
      ],
      "metadata": {
        "id": "UVZe6-6Dy1zg"
      }
    },
    {
      "cell_type": "code",
      "source": [
        "%%R\n",
        "install.packages('aplpack')\n",
        "library('aplpack')"
      ],
      "metadata": {
        "id": "l8DQTaEotGQd"
      },
      "execution_count": null,
      "outputs": []
    },
    {
      "cell_type": "markdown",
      "source": [
        "## **Description of the bivariate boxplot and some examples of its use**\n",
        "The bivariate boxplot is essentially a scatterplot with two ellipses overlaid. The inner ellipse (referred to as the \"hidge\") contains 50% of the points, while points outside the outer ellipse (referred to as the \"fence\") are considered outliers. The plot also includes two linear regression lines, $y(x)$ and $x(y)$, which are estimated without outliers. The intersection of the regression lines is the bivariate estimate of location (a measure of location is a single point that represents a \"typical\" observation).\n",
        "\n",
        "The bivariate boxplot has a parameter D that controls the distance between the fence and the hinge. D = 7 is generally recommended because it corresponds to a 99% confidence bound (Everitt, 2005). \n",
        "\n",
        "Robust estimations of location, scale, and correlation are used to create this plot. In statistics, robust measures are those that are resistant to outliers and small deviations from model assumptions.\n",
        "\n",
        "\n",
        "The use of ellipses rather than other shapes is justified by the fact that bivariate normal distribution is typically used to model bivariate data. The shape of the confidence limits for a bivariate normal distribution is an ellipse. However, the bivariate boxplot can be used to summarize data not only from the bivariate normal distribution, but also from other distributions that deviate moderately from the normal. This is due to the fact that this plot is based on robust statistical estimates (Goldberg and Iglewicz, 1992).\n",
        "\n",
        "\n",
        "Bivariate boxplots are classified into two types: replots and quelplots. Replot is based on ellipses. Quelplot is a replot extension that can handle asymmetric distributions better. In R, only replot is implemented."
      ],
      "metadata": {
        "id": "Z__IhYO1fUhH"
      }
    },
    {
      "cell_type": "markdown",
      "source": [
        "### Example 1.\n",
        "#### Using the bivariate boxplot to summarize data from a bivariate normal distribution"
      ],
      "metadata": {
        "id": "wakfm6Vqf4nL"
      }
    },
    {
      "cell_type": "code",
      "source": [
        "import numpy as np\n",
        "import pandas as pd\n",
        "from scipy.stats import multivariate_normal"
      ],
      "metadata": {
        "id": "ir26gQtU6k0_"
      },
      "execution_count": 120,
      "outputs": []
    },
    {
      "cell_type": "markdown",
      "source": [
        "First, we generate data from a bivariate normal distribution"
      ],
      "metadata": {
        "id": "0gEB4w0yKA0U"
      }
    },
    {
      "cell_type": "code",
      "source": [
        "nv = multivariate_normal([0.5, 5], [[20.0, 5], [5, 4]])\n",
        "nv_sample = nv.rvs(size=500)\n",
        "nv_df = pd.DataFrame(nv_sample)\n",
        "nv_df.head(3)"
      ],
      "metadata": {
        "id": "yNGfeTJoAqWs",
        "colab": {
          "base_uri": "https://localhost:8080/",
          "height": 143
        },
        "outputId": "4e77ccf3-1110-4ef5-8a41-a7e6e5ff5f2f"
      },
      "execution_count": 121,
      "outputs": [
        {
          "output_type": "execute_result",
          "data": {
            "text/plain": [
              "          0         1\n",
              "0  4.769375  5.003423\n",
              "1 -2.268060  7.274245\n",
              "2  1.039122  5.907103"
            ],
            "text/html": [
              "\n",
              "  <div id=\"df-f2c6cd23-0d17-4ac7-a8b6-4b4bf2527000\">\n",
              "    <div class=\"colab-df-container\">\n",
              "      <div>\n",
              "<style scoped>\n",
              "    .dataframe tbody tr th:only-of-type {\n",
              "        vertical-align: middle;\n",
              "    }\n",
              "\n",
              "    .dataframe tbody tr th {\n",
              "        vertical-align: top;\n",
              "    }\n",
              "\n",
              "    .dataframe thead th {\n",
              "        text-align: right;\n",
              "    }\n",
              "</style>\n",
              "<table border=\"1\" class=\"dataframe\">\n",
              "  <thead>\n",
              "    <tr style=\"text-align: right;\">\n",
              "      <th></th>\n",
              "      <th>0</th>\n",
              "      <th>1</th>\n",
              "    </tr>\n",
              "  </thead>\n",
              "  <tbody>\n",
              "    <tr>\n",
              "      <th>0</th>\n",
              "      <td>4.769375</td>\n",
              "      <td>5.003423</td>\n",
              "    </tr>\n",
              "    <tr>\n",
              "      <th>1</th>\n",
              "      <td>-2.268060</td>\n",
              "      <td>7.274245</td>\n",
              "    </tr>\n",
              "    <tr>\n",
              "      <th>2</th>\n",
              "      <td>1.039122</td>\n",
              "      <td>5.907103</td>\n",
              "    </tr>\n",
              "  </tbody>\n",
              "</table>\n",
              "</div>\n",
              "      <button class=\"colab-df-convert\" onclick=\"convertToInteractive('df-f2c6cd23-0d17-4ac7-a8b6-4b4bf2527000')\"\n",
              "              title=\"Convert this dataframe to an interactive table.\"\n",
              "              style=\"display:none;\">\n",
              "        \n",
              "  <svg xmlns=\"http://www.w3.org/2000/svg\" height=\"24px\"viewBox=\"0 0 24 24\"\n",
              "       width=\"24px\">\n",
              "    <path d=\"M0 0h24v24H0V0z\" fill=\"none\"/>\n",
              "    <path d=\"M18.56 5.44l.94 2.06.94-2.06 2.06-.94-2.06-.94-.94-2.06-.94 2.06-2.06.94zm-11 1L8.5 8.5l.94-2.06 2.06-.94-2.06-.94L8.5 2.5l-.94 2.06-2.06.94zm10 10l.94 2.06.94-2.06 2.06-.94-2.06-.94-.94-2.06-.94 2.06-2.06.94z\"/><path d=\"M17.41 7.96l-1.37-1.37c-.4-.4-.92-.59-1.43-.59-.52 0-1.04.2-1.43.59L10.3 9.45l-7.72 7.72c-.78.78-.78 2.05 0 2.83L4 21.41c.39.39.9.59 1.41.59.51 0 1.02-.2 1.41-.59l7.78-7.78 2.81-2.81c.8-.78.8-2.07 0-2.86zM5.41 20L4 18.59l7.72-7.72 1.47 1.35L5.41 20z\"/>\n",
              "  </svg>\n",
              "      </button>\n",
              "      \n",
              "  <style>\n",
              "    .colab-df-container {\n",
              "      display:flex;\n",
              "      flex-wrap:wrap;\n",
              "      gap: 12px;\n",
              "    }\n",
              "\n",
              "    .colab-df-convert {\n",
              "      background-color: #E8F0FE;\n",
              "      border: none;\n",
              "      border-radius: 50%;\n",
              "      cursor: pointer;\n",
              "      display: none;\n",
              "      fill: #1967D2;\n",
              "      height: 32px;\n",
              "      padding: 0 0 0 0;\n",
              "      width: 32px;\n",
              "    }\n",
              "\n",
              "    .colab-df-convert:hover {\n",
              "      background-color: #E2EBFA;\n",
              "      box-shadow: 0px 1px 2px rgba(60, 64, 67, 0.3), 0px 1px 3px 1px rgba(60, 64, 67, 0.15);\n",
              "      fill: #174EA6;\n",
              "    }\n",
              "\n",
              "    [theme=dark] .colab-df-convert {\n",
              "      background-color: #3B4455;\n",
              "      fill: #D2E3FC;\n",
              "    }\n",
              "\n",
              "    [theme=dark] .colab-df-convert:hover {\n",
              "      background-color: #434B5C;\n",
              "      box-shadow: 0px 1px 3px 1px rgba(0, 0, 0, 0.15);\n",
              "      filter: drop-shadow(0px 1px 2px rgba(0, 0, 0, 0.3));\n",
              "      fill: #FFFFFF;\n",
              "    }\n",
              "  </style>\n",
              "\n",
              "      <script>\n",
              "        const buttonEl =\n",
              "          document.querySelector('#df-f2c6cd23-0d17-4ac7-a8b6-4b4bf2527000 button.colab-df-convert');\n",
              "        buttonEl.style.display =\n",
              "          google.colab.kernel.accessAllowed ? 'block' : 'none';\n",
              "\n",
              "        async function convertToInteractive(key) {\n",
              "          const element = document.querySelector('#df-f2c6cd23-0d17-4ac7-a8b6-4b4bf2527000');\n",
              "          const dataTable =\n",
              "            await google.colab.kernel.invokeFunction('convertToInteractive',\n",
              "                                                     [key], {});\n",
              "          if (!dataTable) return;\n",
              "\n",
              "          const docLinkHtml = 'Like what you see? Visit the ' +\n",
              "            '<a target=\"_blank\" href=https://colab.research.google.com/notebooks/data_table.ipynb>data table notebook</a>'\n",
              "            + ' to learn more about interactive tables.';\n",
              "          element.innerHTML = '';\n",
              "          dataTable['output_type'] = 'display_data';\n",
              "          await google.colab.output.renderOutput(dataTable, element);\n",
              "          const docLink = document.createElement('div');\n",
              "          docLink.innerHTML = docLinkHtml;\n",
              "          element.appendChild(docLink);\n",
              "        }\n",
              "      </script>\n",
              "    </div>\n",
              "  </div>\n",
              "  "
            ]
          },
          "metadata": {},
          "execution_count": 121
        }
      ]
    },
    {
      "cell_type": "markdown",
      "source": [
        "The dataframe with generated data must then be transferred into a R dataframe (*rpy2 3.5.4 documentation, R and pandas data frames*):"
      ],
      "metadata": {
        "id": "a5D0-MgTKzpL"
      }
    },
    {
      "cell_type": "code",
      "source": [
        "with localconverter(ro.default_converter + pandas2ri.converter):\n",
        "     nv_r = ro.conversion.py2rpy(nv_df)"
      ],
      "metadata": {
        "id": "fU-w76YPEYVR"
      },
      "execution_count": 122,
      "outputs": []
    },
    {
      "cell_type": "markdown",
      "source": [
        "To get an access to a variable into R environment, we need to add this variable in R's global environment (*rpy2 3.5.4 documentation, Environments*):"
      ],
      "metadata": {
        "id": "if9jBfkNL8Ml"
      }
    },
    {
      "cell_type": "code",
      "source": [
        "ro.globalenv['nv_r'] = nv_r"
      ],
      "metadata": {
        "id": "k1TImf4rEkHP"
      },
      "execution_count": 123,
      "outputs": []
    },
    {
      "cell_type": "markdown",
      "source": [
        "The final step is to create the bivariate boxplot with the Rmagic command:"
      ],
      "metadata": {
        "id": "v0K57JPOPTN-"
      }
    },
    {
      "cell_type": "code",
      "source": [
        "%R bvbox(nv_r, d = 7, method = \"robust\", xlab = \"X\", ylab = \"Y\")"
      ],
      "metadata": {
        "colab": {
          "base_uri": "https://localhost:8080/",
          "height": 497
        },
        "id": "W3I-83J5EvT0",
        "outputId": "ff790e26-23a8-452f-94a6-9d55ed8818b5"
      },
      "execution_count": 124,
      "outputs": [
        {
          "output_type": "display_data",
          "data": {
            "image/png": "[encoded data removed]"
          },
          "metadata": {}
        }
      ]
    },
    {
      "cell_type": "markdown",
      "source": [
        "As shown in the plot, the bivariate boxplot accurately summarizes the data from the bivariate normal distribution."
      ],
      "metadata": {
        "id": "WVTi8p48PsJk"
      }
    },
    {
      "cell_type": "markdown",
      "source": [
        "### Example 2.\n",
        "#### Using the bivariate boxplot to summarize actual data\n",
        "I wanted to use the second example to demonstrate why it is critical to use visaul exploration methods. In this case, using the bivariate boxplot completely changes our understanding of the relationship between two variables. This evident example was taken from Goldberg and Iglewicz (1992). This article used data from Rousseeuw and Leroy's textbook (1987). For this example, I simply copied the data from the textbook.\n",
        "\n",
        "The data set includes information about the star cluster in the direction of Cygnus. There are 47 stars in the cluster. We know the logarithm of the effective temperature at the star's surface and the logarithm of its light intensity for each star (Rousseeuw and Leroy, 1987)."
      ],
      "metadata": {
        "id": "ghdhE-oygQxq"
      }
    },
    {
      "cell_type": "markdown",
      "source": [
        "Let's first examine the relationship between the variables without using the bivariate boxplot."
      ],
      "metadata": {
        "id": "zcCKG5RucTVV"
      }
    },
    {
      "cell_type": "code",
      "source": [
        "# Load data set\n",
        "stars_df = pd.read_excel('DataSet_Stars.xlsx', index_col='Star_index')\n",
        "stars_df.head(3)"
      ],
      "metadata": {
        "colab": {
          "base_uri": "https://localhost:8080/",
          "height": 175
        },
        "id": "a-TxLY4zP2jO",
        "outputId": "a8d916cb-1570-474a-8f33-8a26725571a5"
      },
      "execution_count": 125,
      "outputs": [
        {
          "output_type": "execute_result",
          "data": {
            "text/plain": [
              "            Temp_log  Light_intensity_log\n",
              "Star_index                               \n",
              "1               4.37                 5.23\n",
              "2               4.56                 5.74\n",
              "3               4.26                 4.93"
            ],
            "text/html": [
              "\n",
              "  <div id=\"df-fe547e3d-dc43-4f7b-a7c2-c9f0640ec146\">\n",
              "    <div class=\"colab-df-container\">\n",
              "      <div>\n",
              "<style scoped>\n",
              "    .dataframe tbody tr th:only-of-type {\n",
              "        vertical-align: middle;\n",
              "    }\n",
              "\n",
              "    .dataframe tbody tr th {\n",
              "        vertical-align: top;\n",
              "    }\n",
              "\n",
              "    .dataframe thead th {\n",
              "        text-align: right;\n",
              "    }\n",
              "</style>\n",
              "<table border=\"1\" class=\"dataframe\">\n",
              "  <thead>\n",
              "    <tr style=\"text-align: right;\">\n",
              "      <th></th>\n",
              "      <th>Temp_log</th>\n",
              "      <th>Light_intensity_log</th>\n",
              "    </tr>\n",
              "    <tr>\n",
              "      <th>Star_index</th>\n",
              "      <th></th>\n",
              "      <th></th>\n",
              "    </tr>\n",
              "  </thead>\n",
              "  <tbody>\n",
              "    <tr>\n",
              "      <th>1</th>\n",
              "      <td>4.37</td>\n",
              "      <td>5.23</td>\n",
              "    </tr>\n",
              "    <tr>\n",
              "      <th>2</th>\n",
              "      <td>4.56</td>\n",
              "      <td>5.74</td>\n",
              "    </tr>\n",
              "    <tr>\n",
              "      <th>3</th>\n",
              "      <td>4.26</td>\n",
              "      <td>4.93</td>\n",
              "    </tr>\n",
              "  </tbody>\n",
              "</table>\n",
              "</div>\n",
              "      <button class=\"colab-df-convert\" onclick=\"convertToInteractive('df-fe547e3d-dc43-4f7b-a7c2-c9f0640ec146')\"\n",
              "              title=\"Convert this dataframe to an interactive table.\"\n",
              "              style=\"display:none;\">\n",
              "        \n",
              "  <svg xmlns=\"http://www.w3.org/2000/svg\" height=\"24px\"viewBox=\"0 0 24 24\"\n",
              "       width=\"24px\">\n",
              "    <path d=\"M0 0h24v24H0V0z\" fill=\"none\"/>\n",
              "    <path d=\"M18.56 5.44l.94 2.06.94-2.06 2.06-.94-2.06-.94-.94-2.06-.94 2.06-2.06.94zm-11 1L8.5 8.5l.94-2.06 2.06-.94-2.06-.94L8.5 2.5l-.94 2.06-2.06.94zm10 10l.94 2.06.94-2.06 2.06-.94-2.06-.94-.94-2.06-.94 2.06-2.06.94z\"/><path d=\"M17.41 7.96l-1.37-1.37c-.4-.4-.92-.59-1.43-.59-.52 0-1.04.2-1.43.59L10.3 9.45l-7.72 7.72c-.78.78-.78 2.05 0 2.83L4 21.41c.39.39.9.59 1.41.59.51 0 1.02-.2 1.41-.59l7.78-7.78 2.81-2.81c.8-.78.8-2.07 0-2.86zM5.41 20L4 18.59l7.72-7.72 1.47 1.35L5.41 20z\"/>\n",
              "  </svg>\n",
              "      </button>\n",
              "      \n",
              "  <style>\n",
              "    .colab-df-container {\n",
              "      display:flex;\n",
              "      flex-wrap:wrap;\n",
              "      gap: 12px;\n",
              "    }\n",
              "\n",
              "    .colab-df-convert {\n",
              "      background-color: #E8F0FE;\n",
              "      border: none;\n",
              "      border-radius: 50%;\n",
              "      cursor: pointer;\n",
              "      display: none;\n",
              "      fill: #1967D2;\n",
              "      height: 32px;\n",
              "      padding: 0 0 0 0;\n",
              "      width: 32px;\n",
              "    }\n",
              "\n",
              "    .colab-df-convert:hover {\n",
              "      background-color: #E2EBFA;\n",
              "      box-shadow: 0px 1px 2px rgba(60, 64, 67, 0.3), 0px 1px 3px 1px rgba(60, 64, 67, 0.15);\n",
              "      fill: #174EA6;\n",
              "    }\n",
              "\n",
              "    [theme=dark] .colab-df-convert {\n",
              "      background-color: #3B4455;\n",
              "      fill: #D2E3FC;\n",
              "    }\n",
              "\n",
              "    [theme=dark] .colab-df-convert:hover {\n",
              "      background-color: #434B5C;\n",
              "      box-shadow: 0px 1px 3px 1px rgba(0, 0, 0, 0.15);\n",
              "      filter: drop-shadow(0px 1px 2px rgba(0, 0, 0, 0.3));\n",
              "      fill: #FFFFFF;\n",
              "    }\n",
              "  </style>\n",
              "\n",
              "      <script>\n",
              "        const buttonEl =\n",
              "          document.querySelector('#df-fe547e3d-dc43-4f7b-a7c2-c9f0640ec146 button.colab-df-convert');\n",
              "        buttonEl.style.display =\n",
              "          google.colab.kernel.accessAllowed ? 'block' : 'none';\n",
              "\n",
              "        async function convertToInteractive(key) {\n",
              "          const element = document.querySelector('#df-fe547e3d-dc43-4f7b-a7c2-c9f0640ec146');\n",
              "          const dataTable =\n",
              "            await google.colab.kernel.invokeFunction('convertToInteractive',\n",
              "                                                     [key], {});\n",
              "          if (!dataTable) return;\n",
              "\n",
              "          const docLinkHtml = 'Like what you see? Visit the ' +\n",
              "            '<a target=\"_blank\" href=https://colab.research.google.com/notebooks/data_table.ipynb>data table notebook</a>'\n",
              "            + ' to learn more about interactive tables.';\n",
              "          element.innerHTML = '';\n",
              "          dataTable['output_type'] = 'display_data';\n",
              "          await google.colab.output.renderOutput(dataTable, element);\n",
              "          const docLink = document.createElement('div');\n",
              "          docLink.innerHTML = docLinkHtml;\n",
              "          element.appendChild(docLink);\n",
              "        }\n",
              "      </script>\n",
              "    </div>\n",
              "  </div>\n",
              "  "
            ]
          },
          "metadata": {},
          "execution_count": 125
        }
      ]
    },
    {
      "cell_type": "code",
      "source": [
        "# Plot the relationship between variables\n",
        "import matplotlib.pyplot as plt\n",
        "\n",
        "# Fit the regression line\n",
        "b, a = np.polyfit(stars_df['Temp_log'], stars_df['Light_intensity_log'], deg=1)\n",
        "x_values = np.linspace(3.4, 4.8, num=10)\n",
        "\n",
        "plt.figure(figsize=(7,6))\n",
        "plt.scatter(stars_df['Temp_log'], stars_df['Light_intensity_log'], \n",
        "            color='white', s=27, edgecolors='black', linewidths=0.7)\n",
        "plt.plot(x_values, a + b * x_values, color = 'black')\n",
        "plt.xlabel('Log Surface Temperature')\n",
        "plt.ylabel('Log Light Intensity');"
      ],
      "metadata": {
        "colab": {
          "base_uri": "https://localhost:8080/",
          "height": 388
        },
        "id": "oUsVUSKPdofD",
        "outputId": "caa76732-7841-40a3-9e49-36330f5f697b"
      },
      "execution_count": 126,
      "outputs": [
        {
          "output_type": "display_data",
          "data": {
            "text/plain": [
              "<Figure size 504x432 with 1 Axes>"
            ],
            "image/png": "[encoded data removed]"
          },
          "metadata": {
            "needs_background": "light"
          }
        }
      ]
    },
    {
      "cell_type": "markdown",
      "source": [
        "A regression line that was constructed using all the data points shows a slight negative relationship between the variables. We got a counter-intuitive result: a star's light intensity decreases as its surface temperature increases.\n",
        "\n",
        "Now let's examine the data using a bivariate boxplot."
      ],
      "metadata": {
        "id": "j6OUS_Y-sOdC"
      }
    },
    {
      "cell_type": "code",
      "source": [
        "# Convert the pandas dataframe into a R dataframe\n",
        "with localconverter(ro.default_converter + pandas2ri.converter):\n",
        "     stars_r = ro.conversion.py2rpy(stars_df)\n",
        "\n",
        "# Create a variable name in R's global environment\n",
        "ro.globalenv['stars_r'] = stars_r"
      ],
      "metadata": {
        "id": "FSl0qa2gRwrl"
      },
      "execution_count": 127,
      "outputs": []
    },
    {
      "cell_type": "code",
      "source": [
        "%R bvbox(stars_r, d = 7, method = \"robust\", \\\n",
        "         xlab = \"Log Surface Temperature\", ylab = \"Log Light Intensity\")"
      ],
      "metadata": {
        "colab": {
          "base_uri": "https://localhost:8080/",
          "height": 497
        },
        "id": "iJpNi7qRSDRB",
        "outputId": "0742ede7-74cd-4937-9340-d89485e504ae"
      },
      "execution_count": 129,
      "outputs": [
        {
          "output_type": "display_data",
          "data": {
            "image/png": "[encoded data removed]"
          },
          "metadata": {}
        }
      ]
    },
    {
      "cell_type": "markdown",
      "source": [
        "The bivariate boxplot exhibits five outliers. Without taking them into account, it is clear that there is a strong positive relationship between the variables: A star's light intensity increases with its surface temperature. The previous plot, however, demonstrated a slight negative relationship. So, the bivariate boxplot can significantly change how we understand data."
      ],
      "metadata": {
        "id": "dACNTHl1vLSh"
      }
    },
    {
      "cell_type": "markdown",
      "source": [
        "### Example 3.\n",
        "#### Using the bivariate boxplot to summarize actual data. The bivariate boxplot fails to accurately depict the data's characteristics.\n",
        "In this example the bivariate boxplot was used to investigate the relationship between mortality and exposure to PM2.5 fine particles, small particles that can cause serious health problems if inhaled.\n",
        "\n",
        "Because it is impossible to have a negative mortality rate, the data is asymmetric. The bivariate boxplot is unable to handle this asymmetry and indicates that negative mortality values are possible.\n",
        "\n",
        "The data was downloaded in CSV format from the website https://www.oecd-ilibrary.org/environment/data/oecd-environment-statistics_env-data-en."
      ],
      "metadata": {
        "id": "fH4ROmdQgWPf"
      }
    },
    {
      "cell_type": "markdown",
      "source": [
        "First, load mortality data from the file 'EXP_MOR.csv'. \n",
        "\n",
        "This file contains data on mortality from exposure to air pollution for OECD countries. When I loaded the data, I chose the risk \"Ambient particulate matter\"."
      ],
      "metadata": {
        "id": "naZIdasY5Yh0"
      }
    },
    {
      "cell_type": "code",
      "source": [
        "mortality_df = pd.read_csv('EXP_MOR.csv')\n",
        "# Filter the dataframe: VAR = 'MOR_CAP' (Premature deaths, per million inhabitants), \n",
        "# AGE = 'All', SEX = 'BOTH'\n",
        "mortality_df_filt = mortality_df[(mortality_df['VAR']=='MOR_CAP')\\\n",
        "                                 &(mortality_df['AGE']=='ALL')\\\n",
        "                                 &(mortality_df['SEX']=='BOTH')]\n",
        "columns = ['COU', 'Country', 'Value']\n",
        "mortality_df_filt = mortality_df_filt[columns]\n",
        "mortality_df_filt.rename({'Value': 'Mortality'}, axis='columns', inplace = True)\n",
        "mortality_df_filt = mortality_df_filt.set_index('COU')\n",
        "mortality_df_filt.head(4)"
      ],
      "metadata": {
        "colab": {
          "base_uri": "https://localhost:8080/",
          "height": 206
        },
        "id": "1-SYIxwnoO8Q",
        "outputId": "9aa58254-f03c-436f-ad7a-cf3a7b3c73a3"
      },
      "execution_count": 130,
      "outputs": [
        {
          "output_type": "execute_result",
          "data": {
            "text/plain": [
              "       Country  Mortality\n",
              "COU                      \n",
              "AUS  Australia     70.732\n",
              "AUT    Austria    267.220\n",
              "BEL    Belgium    302.814\n",
              "CAN     Canada    100.683"
            ],
            "text/html": [
              "\n",
              "  <div id=\"df-46c5abfd-67ba-418e-ad33-e7c30316e52d\">\n",
              "    <div class=\"colab-df-container\">\n",
              "      <div>\n",
              "<style scoped>\n",
              "    .dataframe tbody tr th:only-of-type {\n",
              "        vertical-align: middle;\n",
              "    }\n",
              "\n",
              "    .dataframe tbody tr th {\n",
              "        vertical-align: top;\n",
              "    }\n",
              "\n",
              "    .dataframe thead th {\n",
              "        text-align: right;\n",
              "    }\n",
              "</style>\n",
              "<table border=\"1\" class=\"dataframe\">\n",
              "  <thead>\n",
              "    <tr style=\"text-align: right;\">\n",
              "      <th></th>\n",
              "      <th>Country</th>\n",
              "      <th>Mortality</th>\n",
              "    </tr>\n",
              "    <tr>\n",
              "      <th>COU</th>\n",
              "      <th></th>\n",
              "      <th></th>\n",
              "    </tr>\n",
              "  </thead>\n",
              "  <tbody>\n",
              "    <tr>\n",
              "      <th>AUS</th>\n",
              "      <td>Australia</td>\n",
              "      <td>70.732</td>\n",
              "    </tr>\n",
              "    <tr>\n",
              "      <th>AUT</th>\n",
              "      <td>Austria</td>\n",
              "      <td>267.220</td>\n",
              "    </tr>\n",
              "    <tr>\n",
              "      <th>BEL</th>\n",
              "      <td>Belgium</td>\n",
              "      <td>302.814</td>\n",
              "    </tr>\n",
              "    <tr>\n",
              "      <th>CAN</th>\n",
              "      <td>Canada</td>\n",
              "      <td>100.683</td>\n",
              "    </tr>\n",
              "  </tbody>\n",
              "</table>\n",
              "</div>\n",
              "      <button class=\"colab-df-convert\" onclick=\"convertToInteractive('df-46c5abfd-67ba-418e-ad33-e7c30316e52d')\"\n",
              "              title=\"Convert this dataframe to an interactive table.\"\n",
              "              style=\"display:none;\">\n",
              "        \n",
              "  <svg xmlns=\"http://www.w3.org/2000/svg\" height=\"24px\"viewBox=\"0 0 24 24\"\n",
              "       width=\"24px\">\n",
              "    <path d=\"M0 0h24v24H0V0z\" fill=\"none\"/>\n",
              "    <path d=\"M18.56 5.44l.94 2.06.94-2.06 2.06-.94-2.06-.94-.94-2.06-.94 2.06-2.06.94zm-11 1L8.5 8.5l.94-2.06 2.06-.94-2.06-.94L8.5 2.5l-.94 2.06-2.06.94zm10 10l.94 2.06.94-2.06 2.06-.94-2.06-.94-.94-2.06-.94 2.06-2.06.94z\"/><path d=\"M17.41 7.96l-1.37-1.37c-.4-.4-.92-.59-1.43-.59-.52 0-1.04.2-1.43.59L10.3 9.45l-7.72 7.72c-.78.78-.78 2.05 0 2.83L4 21.41c.39.39.9.59 1.41.59.51 0 1.02-.2 1.41-.59l7.78-7.78 2.81-2.81c.8-.78.8-2.07 0-2.86zM5.41 20L4 18.59l7.72-7.72 1.47 1.35L5.41 20z\"/>\n",
              "  </svg>\n",
              "      </button>\n",
              "      \n",
              "  <style>\n",
              "    .colab-df-container {\n",
              "      display:flex;\n",
              "      flex-wrap:wrap;\n",
              "      gap: 12px;\n",
              "    }\n",
              "\n",
              "    .colab-df-convert {\n",
              "      background-color: #E8F0FE;\n",
              "      border: none;\n",
              "      border-radius: 50%;\n",
              "      cursor: pointer;\n",
              "      display: none;\n",
              "      fill: #1967D2;\n",
              "      height: 32px;\n",
              "      padding: 0 0 0 0;\n",
              "      width: 32px;\n",
              "    }\n",
              "\n",
              "    .colab-df-convert:hover {\n",
              "      background-color: #E2EBFA;\n",
              "      box-shadow: 0px 1px 2px rgba(60, 64, 67, 0.3), 0px 1px 3px 1px rgba(60, 64, 67, 0.15);\n",
              "      fill: #174EA6;\n",
              "    }\n",
              "\n",
              "    [theme=dark] .colab-df-convert {\n",
              "      background-color: #3B4455;\n",
              "      fill: #D2E3FC;\n",
              "    }\n",
              "\n",
              "    [theme=dark] .colab-df-convert:hover {\n",
              "      background-color: #434B5C;\n",
              "      box-shadow: 0px 1px 3px 1px rgba(0, 0, 0, 0.15);\n",
              "      filter: drop-shadow(0px 1px 2px rgba(0, 0, 0, 0.3));\n",
              "      fill: #FFFFFF;\n",
              "    }\n",
              "  </style>\n",
              "\n",
              "      <script>\n",
              "        const buttonEl =\n",
              "          document.querySelector('#df-46c5abfd-67ba-418e-ad33-e7c30316e52d button.colab-df-convert');\n",
              "        buttonEl.style.display =\n",
              "          google.colab.kernel.accessAllowed ? 'block' : 'none';\n",
              "\n",
              "        async function convertToInteractive(key) {\n",
              "          const element = document.querySelector('#df-46c5abfd-67ba-418e-ad33-e7c30316e52d');\n",
              "          const dataTable =\n",
              "            await google.colab.kernel.invokeFunction('convertToInteractive',\n",
              "                                                     [key], {});\n",
              "          if (!dataTable) return;\n",
              "\n",
              "          const docLinkHtml = 'Like what you see? Visit the ' +\n",
              "            '<a target=\"_blank\" href=https://colab.research.google.com/notebooks/data_table.ipynb>data table notebook</a>'\n",
              "            + ' to learn more about interactive tables.';\n",
              "          element.innerHTML = '';\n",
              "          dataTable['output_type'] = 'display_data';\n",
              "          await google.colab.output.renderOutput(dataTable, element);\n",
              "          const docLink = document.createElement('div');\n",
              "          docLink.innerHTML = docLinkHtml;\n",
              "          element.appendChild(docLink);\n",
              "        }\n",
              "      </script>\n",
              "    </div>\n",
              "  </div>\n",
              "  "
            ]
          },
          "metadata": {},
          "execution_count": 130
        }
      ]
    },
    {
      "cell_type": "code",
      "source": [
        "mortality_df_filt.describe()"
      ],
      "metadata": {
        "colab": {
          "base_uri": "https://localhost:8080/",
          "height": 300
        },
        "id": "u6s6wcpg8Hia",
        "outputId": "4383d35e-d6e5-4d75-9ee8-e41b8bc7fabd"
      },
      "execution_count": 131,
      "outputs": [
        {
          "output_type": "execute_result",
          "data": {
            "text/plain": [
              "        Mortality\n",
              "count   38.000000\n",
              "mean   288.947684\n",
              "std    192.074275\n",
              "min     45.837000\n",
              "25%    145.923500\n",
              "50%    263.392000\n",
              "75%    404.881250\n",
              "max    732.817000"
            ],
            "text/html": [
              "\n",
              "  <div id=\"df-50b306af-2b8c-48e9-803c-4a4acb7217d3\">\n",
              "    <div class=\"colab-df-container\">\n",
              "      <div>\n",
              "<style scoped>\n",
              "    .dataframe tbody tr th:only-of-type {\n",
              "        vertical-align: middle;\n",
              "    }\n",
              "\n",
              "    .dataframe tbody tr th {\n",
              "        vertical-align: top;\n",
              "    }\n",
              "\n",
              "    .dataframe thead th {\n",
              "        text-align: right;\n",
              "    }\n",
              "</style>\n",
              "<table border=\"1\" class=\"dataframe\">\n",
              "  <thead>\n",
              "    <tr style=\"text-align: right;\">\n",
              "      <th></th>\n",
              "      <th>Mortality</th>\n",
              "    </tr>\n",
              "  </thead>\n",
              "  <tbody>\n",
              "    <tr>\n",
              "      <th>count</th>\n",
              "      <td>38.000000</td>\n",
              "    </tr>\n",
              "    <tr>\n",
              "      <th>mean</th>\n",
              "      <td>288.947684</td>\n",
              "    </tr>\n",
              "    <tr>\n",
              "      <th>std</th>\n",
              "      <td>192.074275</td>\n",
              "    </tr>\n",
              "    <tr>\n",
              "      <th>min</th>\n",
              "      <td>45.837000</td>\n",
              "    </tr>\n",
              "    <tr>\n",
              "      <th>25%</th>\n",
              "      <td>145.923500</td>\n",
              "    </tr>\n",
              "    <tr>\n",
              "      <th>50%</th>\n",
              "      <td>263.392000</td>\n",
              "    </tr>\n",
              "    <tr>\n",
              "      <th>75%</th>\n",
              "      <td>404.881250</td>\n",
              "    </tr>\n",
              "    <tr>\n",
              "      <th>max</th>\n",
              "      <td>732.817000</td>\n",
              "    </tr>\n",
              "  </tbody>\n",
              "</table>\n",
              "</div>\n",
              "      <button class=\"colab-df-convert\" onclick=\"convertToInteractive('df-50b306af-2b8c-48e9-803c-4a4acb7217d3')\"\n",
              "              title=\"Convert this dataframe to an interactive table.\"\n",
              "              style=\"display:none;\">\n",
              "        \n",
              "  <svg xmlns=\"http://www.w3.org/2000/svg\" height=\"24px\"viewBox=\"0 0 24 24\"\n",
              "       width=\"24px\">\n",
              "    <path d=\"M0 0h24v24H0V0z\" fill=\"none\"/>\n",
              "    <path d=\"M18.56 5.44l.94 2.06.94-2.06 2.06-.94-2.06-.94-.94-2.06-.94 2.06-2.06.94zm-11 1L8.5 8.5l.94-2.06 2.06-.94-2.06-.94L8.5 2.5l-.94 2.06-2.06.94zm10 10l.94 2.06.94-2.06 2.06-.94-2.06-.94-.94-2.06-.94 2.06-2.06.94z\"/><path d=\"M17.41 7.96l-1.37-1.37c-.4-.4-.92-.59-1.43-.59-.52 0-1.04.2-1.43.59L10.3 9.45l-7.72 7.72c-.78.78-.78 2.05 0 2.83L4 21.41c.39.39.9.59 1.41.59.51 0 1.02-.2 1.41-.59l7.78-7.78 2.81-2.81c.8-.78.8-2.07 0-2.86zM5.41 20L4 18.59l7.72-7.72 1.47 1.35L5.41 20z\"/>\n",
              "  </svg>\n",
              "      </button>\n",
              "      \n",
              "  <style>\n",
              "    .colab-df-container {\n",
              "      display:flex;\n",
              "      flex-wrap:wrap;\n",
              "      gap: 12px;\n",
              "    }\n",
              "\n",
              "    .colab-df-convert {\n",
              "      background-color: #E8F0FE;\n",
              "      border: none;\n",
              "      border-radius: 50%;\n",
              "      cursor: pointer;\n",
              "      display: none;\n",
              "      fill: #1967D2;\n",
              "      height: 32px;\n",
              "      padding: 0 0 0 0;\n",
              "      width: 32px;\n",
              "    }\n",
              "\n",
              "    .colab-df-convert:hover {\n",
              "      background-color: #E2EBFA;\n",
              "      box-shadow: 0px 1px 2px rgba(60, 64, 67, 0.3), 0px 1px 3px 1px rgba(60, 64, 67, 0.15);\n",
              "      fill: #174EA6;\n",
              "    }\n",
              "\n",
              "    [theme=dark] .colab-df-convert {\n",
              "      background-color: #3B4455;\n",
              "      fill: #D2E3FC;\n",
              "    }\n",
              "\n",
              "    [theme=dark] .colab-df-convert:hover {\n",
              "      background-color: #434B5C;\n",
              "      box-shadow: 0px 1px 3px 1px rgba(0, 0, 0, 0.15);\n",
              "      filter: drop-shadow(0px 1px 2px rgba(0, 0, 0, 0.3));\n",
              "      fill: #FFFFFF;\n",
              "    }\n",
              "  </style>\n",
              "\n",
              "      <script>\n",
              "        const buttonEl =\n",
              "          document.querySelector('#df-50b306af-2b8c-48e9-803c-4a4acb7217d3 button.colab-df-convert');\n",
              "        buttonEl.style.display =\n",
              "          google.colab.kernel.accessAllowed ? 'block' : 'none';\n",
              "\n",
              "        async function convertToInteractive(key) {\n",
              "          const element = document.querySelector('#df-50b306af-2b8c-48e9-803c-4a4acb7217d3');\n",
              "          const dataTable =\n",
              "            await google.colab.kernel.invokeFunction('convertToInteractive',\n",
              "                                                     [key], {});\n",
              "          if (!dataTable) return;\n",
              "\n",
              "          const docLinkHtml = 'Like what you see? Visit the ' +\n",
              "            '<a target=\"_blank\" href=https://colab.research.google.com/notebooks/data_table.ipynb>data table notebook</a>'\n",
              "            + ' to learn more about interactive tables.';\n",
              "          element.innerHTML = '';\n",
              "          dataTable['output_type'] = 'display_data';\n",
              "          await google.colab.output.renderOutput(dataTable, element);\n",
              "          const docLink = document.createElement('div');\n",
              "          docLink.innerHTML = docLinkHtml;\n",
              "          element.appendChild(docLink);\n",
              "        }\n",
              "      </script>\n",
              "    </div>\n",
              "  </div>\n",
              "  "
            ]
          },
          "metadata": {},
          "execution_count": 131
        }
      ]
    },
    {
      "cell_type": "markdown",
      "source": [
        "Load data on PM2.5 particle exposure from the file 'EXP PM2 5.csv'. This file contains data for more countries than the previous file.\n",
        "\n",
        "Variable: Mean population exposure to PM2.5.\n",
        "Unit: Micrograms per cubic metre."
      ],
      "metadata": {
        "id": "GG2Lx4ew8rSh"
      }
    },
    {
      "cell_type": "code",
      "source": [
        "exposure_df = pd.read_csv('EXP_PM2_5.csv')\n",
        "exposure_df_filt = exposure_df[columns]\n",
        "exposure_df_filt = exposure_df_filt.set_index('COU')\n",
        "exposure_df_filt.rename({'Value': 'Exposure'}, axis='columns', inplace = True)\n",
        "exposure_df_filt.head(4)"
      ],
      "metadata": {
        "colab": {
          "base_uri": "https://localhost:8080/",
          "height": 206
        },
        "id": "1QLhj6zaq3CV",
        "outputId": "5624a4b0-3f64-48de-fbef-8374b3d7de24"
      },
      "execution_count": 132,
      "outputs": [
        {
          "output_type": "execute_result",
          "data": {
            "text/plain": [
              "       Country  Exposure\n",
              "COU                     \n",
              "AUS  Australia   6.74870\n",
              "AUT    Austria  12.22494\n",
              "BEL    Belgium  12.72630\n",
              "CAN     Canada   7.09026"
            ],
            "text/html": [
              "\n",
              "  <div id=\"df-e8af9d53-7493-454d-a1a4-56314b68e412\">\n",
              "    <div class=\"colab-df-container\">\n",
              "      <div>\n",
              "<style scoped>\n",
              "    .dataframe tbody tr th:only-of-type {\n",
              "        vertical-align: middle;\n",
              "    }\n",
              "\n",
              "    .dataframe tbody tr th {\n",
              "        vertical-align: top;\n",
              "    }\n",
              "\n",
              "    .dataframe thead th {\n",
              "        text-align: right;\n",
              "    }\n",
              "</style>\n",
              "<table border=\"1\" class=\"dataframe\">\n",
              "  <thead>\n",
              "    <tr style=\"text-align: right;\">\n",
              "      <th></th>\n",
              "      <th>Country</th>\n",
              "      <th>Exposure</th>\n",
              "    </tr>\n",
              "    <tr>\n",
              "      <th>COU</th>\n",
              "      <th></th>\n",
              "      <th></th>\n",
              "    </tr>\n",
              "  </thead>\n",
              "  <tbody>\n",
              "    <tr>\n",
              "      <th>AUS</th>\n",
              "      <td>Australia</td>\n",
              "      <td>6.74870</td>\n",
              "    </tr>\n",
              "    <tr>\n",
              "      <th>AUT</th>\n",
              "      <td>Austria</td>\n",
              "      <td>12.22494</td>\n",
              "    </tr>\n",
              "    <tr>\n",
              "      <th>BEL</th>\n",
              "      <td>Belgium</td>\n",
              "      <td>12.72630</td>\n",
              "    </tr>\n",
              "    <tr>\n",
              "      <th>CAN</th>\n",
              "      <td>Canada</td>\n",
              "      <td>7.09026</td>\n",
              "    </tr>\n",
              "  </tbody>\n",
              "</table>\n",
              "</div>\n",
              "      <button class=\"colab-df-convert\" onclick=\"convertToInteractive('df-e8af9d53-7493-454d-a1a4-56314b68e412')\"\n",
              "              title=\"Convert this dataframe to an interactive table.\"\n",
              "              style=\"display:none;\">\n",
              "        \n",
              "  <svg xmlns=\"http://www.w3.org/2000/svg\" height=\"24px\"viewBox=\"0 0 24 24\"\n",
              "       width=\"24px\">\n",
              "    <path d=\"M0 0h24v24H0V0z\" fill=\"none\"/>\n",
              "    <path d=\"M18.56 5.44l.94 2.06.94-2.06 2.06-.94-2.06-.94-.94-2.06-.94 2.06-2.06.94zm-11 1L8.5 8.5l.94-2.06 2.06-.94-2.06-.94L8.5 2.5l-.94 2.06-2.06.94zm10 10l.94 2.06.94-2.06 2.06-.94-2.06-.94-.94-2.06-.94 2.06-2.06.94z\"/><path d=\"M17.41 7.96l-1.37-1.37c-.4-.4-.92-.59-1.43-.59-.52 0-1.04.2-1.43.59L10.3 9.45l-7.72 7.72c-.78.78-.78 2.05 0 2.83L4 21.41c.39.39.9.59 1.41.59.51 0 1.02-.2 1.41-.59l7.78-7.78 2.81-2.81c.8-.78.8-2.07 0-2.86zM5.41 20L4 18.59l7.72-7.72 1.47 1.35L5.41 20z\"/>\n",
              "  </svg>\n",
              "      </button>\n",
              "      \n",
              "  <style>\n",
              "    .colab-df-container {\n",
              "      display:flex;\n",
              "      flex-wrap:wrap;\n",
              "      gap: 12px;\n",
              "    }\n",
              "\n",
              "    .colab-df-convert {\n",
              "      background-color: #E8F0FE;\n",
              "      border: none;\n",
              "      border-radius: 50%;\n",
              "      cursor: pointer;\n",
              "      display: none;\n",
              "      fill: #1967D2;\n",
              "      height: 32px;\n",
              "      padding: 0 0 0 0;\n",
              "      width: 32px;\n",
              "    }\n",
              "\n",
              "    .colab-df-convert:hover {\n",
              "      background-color: #E2EBFA;\n",
              "      box-shadow: 0px 1px 2px rgba(60, 64, 67, 0.3), 0px 1px 3px 1px rgba(60, 64, 67, 0.15);\n",
              "      fill: #174EA6;\n",
              "    }\n",
              "\n",
              "    [theme=dark] .colab-df-convert {\n",
              "      background-color: #3B4455;\n",
              "      fill: #D2E3FC;\n",
              "    }\n",
              "\n",
              "    [theme=dark] .colab-df-convert:hover {\n",
              "      background-color: #434B5C;\n",
              "      box-shadow: 0px 1px 3px 1px rgba(0, 0, 0, 0.15);\n",
              "      filter: drop-shadow(0px 1px 2px rgba(0, 0, 0, 0.3));\n",
              "      fill: #FFFFFF;\n",
              "    }\n",
              "  </style>\n",
              "\n",
              "      <script>\n",
              "        const buttonEl =\n",
              "          document.querySelector('#df-e8af9d53-7493-454d-a1a4-56314b68e412 button.colab-df-convert');\n",
              "        buttonEl.style.display =\n",
              "          google.colab.kernel.accessAllowed ? 'block' : 'none';\n",
              "\n",
              "        async function convertToInteractive(key) {\n",
              "          const element = document.querySelector('#df-e8af9d53-7493-454d-a1a4-56314b68e412');\n",
              "          const dataTable =\n",
              "            await google.colab.kernel.invokeFunction('convertToInteractive',\n",
              "                                                     [key], {});\n",
              "          if (!dataTable) return;\n",
              "\n",
              "          const docLinkHtml = 'Like what you see? Visit the ' +\n",
              "            '<a target=\"_blank\" href=https://colab.research.google.com/notebooks/data_table.ipynb>data table notebook</a>'\n",
              "            + ' to learn more about interactive tables.';\n",
              "          element.innerHTML = '';\n",
              "          dataTable['output_type'] = 'display_data';\n",
              "          await google.colab.output.renderOutput(dataTable, element);\n",
              "          const docLink = document.createElement('div');\n",
              "          docLink.innerHTML = docLinkHtml;\n",
              "          element.appendChild(docLink);\n",
              "        }\n",
              "      </script>\n",
              "    </div>\n",
              "  </div>\n",
              "  "
            ]
          },
          "metadata": {},
          "execution_count": 132
        }
      ]
    },
    {
      "cell_type": "code",
      "source": [
        "# Merge dataframes\n",
        "air_pollution = pd.merge(exposure_df_filt, mortality_df_filt, how='inner')"
      ],
      "metadata": {
        "id": "TX3atIDjtYqj"
      },
      "execution_count": 133,
      "outputs": []
    },
    {
      "cell_type": "code",
      "source": [
        "# Convert the pandas dataframe into a R dataframe\n",
        "with localconverter(ro.default_converter + pandas2ri.converter):\n",
        "     air_pollution_r = ro.conversion.py2rpy(air_pollution[['Exposure', 'Mortality']])\n",
        "\n",
        "# Create a variable name in R's global environment\n",
        "ro.globalenv['air_pollution_r'] = air_pollution_r"
      ],
      "metadata": {
        "id": "0W_UGqO5ukMz"
      },
      "execution_count": 134,
      "outputs": []
    },
    {
      "cell_type": "code",
      "source": [
        "%R bvbox(air_pollution_r, d = 7, method = \"robust\", xlab = \"Exposure to PM2.5 fine particles\", \\\n",
        "         ylab = \"Premature deaths, per million inhabitants\")"
      ],
      "metadata": {
        "colab": {
          "base_uri": "https://localhost:8080/",
          "height": 497
        },
        "id": "FUqR9ywIu2ZD",
        "outputId": "14baeb50-7407-4da4-a15e-bcdc2b60eb10"
      },
      "execution_count": 136,
      "outputs": [
        {
          "output_type": "display_data",
          "data": {
            "image/png": "[encoded data removed]"
          },
          "metadata": {}
        }
      ]
    },
    {
      "cell_type": "markdown",
      "source": [
        "The bivariate boxplot showed no outliers. As previously stated, for this example the bivariate boxplot incorrectly describes destribution characteristics. According to the plot, negative mortality is possible, with up to -200 premature deaths per million inhabitant.\n",
        "\n",
        "Quelplot is a better choice in this case. However, R does not support it. Another option is to use a bagplot, which is better suited to dealing with asymmetry. \n",
        "\n",
        "A brief description of the bagplot is provided in Wilcox's textbook (2022): \"The bagplot ... provides a more flexible approach to dealing with any asymmetry in the data cloud. Roughly, using some measure of depth, it determines the convex hull containing the deepest half of the data, called the bag. Then this bag is inflated by a factor of 3 relative to the median, and the data points outside of the inflated bag are flagged as outliers.\""
      ],
      "metadata": {
        "id": "cA0h3hO3-lKl"
      }
    },
    {
      "cell_type": "markdown",
      "source": [
        "The bagplot for the analyzed data is shown below:"
      ],
      "metadata": {
        "id": "IVZEKYoeDhDz"
      }
    },
    {
      "cell_type": "code",
      "source": [
        "%%R \n",
        "bagplot(air_pollution_r['Exposure'], air_pollution_r['Mortality'], \n",
        "        xlab=\"Exposure to PM2.5 fine particles\", \n",
        "        ylab=\"Premature deaths, per million inhabitants\",\n",
        "        transparency = TRUE,\n",
        "        show.whiskers = FALSE)"
      ],
      "metadata": {
        "colab": {
          "base_uri": "https://localhost:8080/",
          "height": 497
        },
        "id": "-PY57-_xuVEs",
        "outputId": "f026b187-ccbe-4969-8cf0-b47b417695dd"
      },
      "execution_count": 137,
      "outputs": [
        {
          "output_type": "display_data",
          "data": {
            "image/png": "[encoded data removed]"
          },
          "metadata": {}
        }
      ]
    },
    {
      "cell_type": "markdown",
      "source": [
        "## **Other reasons to use rpy2**\n",
        "Thanks to the rpy2 package, we can easily combine the functionality of Python and R in one environment, eliminating the need to load data into R from Python and vice versa. \n",
        "\n",
        "R is worth incorporating into the work of a data scientist because it provides cutting-edge statistical techniques, such as modern robust methods, that enable a more precise and complex understanding of data. Of course, Python has some of the modern methods, like in scikit-learn, but the number of them is much smaller than what R can offer. For instance, I was unable to find in Python the multivariate trimmed mean, a measure of location that is resistant to outliers."
      ],
      "metadata": {
        "id": "dN2UTZBBfkfg"
      }
    },
    {
      "cell_type": "markdown",
      "source": [
        "## **References**\n",
        "\n",
        "*   Everitt, B.S. (2005). An R and S-PLUS Companion to Multivariate Analysis. Springer.\n",
        "*   Kenneth M. Goldberg, K.M. Iglewicz, B. (1992). Bivariate Extensions of the Boxplot. Technometrics, 34(3), pp. 307-320.\n",
        "*   Rousseeuw,P.J., Leroy, A.M. (1987). Robust Regression and Outlier Detection. John Wiley & Sons, Inc.\n",
        "*   Wilcox, R.R. (2022). Introduction to Robust Estimation and Hypothesis\n",
        "Testing (5th ed.). Elsevier Inc.\n",
        "*   rpy2 3.5.4 documentation, Requirements, https://rpy2.github.io/doc/v3.5.x/html/overview.html#requirements\n",
        "*   rpy2 3.5.4 documentation, Using rpy2 in notebooks, https://rpy2.github.io/doc/v3.4.x/html/generated_rst/notebooks.html\n",
        "*   rpy2 3.5.4 documentation, R and pandas data frames, https://rpy2.github.io/doc/latest/html/generated_rst/pandas.html\n",
        "*   rpy2 3.5.4 documentation, Interactive work, https://rpy2.github.io/doc/latest/html/interactive.html\n",
        "*   rpy2 3.5.4 documentation, Environments, https://rpy2.github.io/doc/latest/html/robjects_environments.html\n",
        "*   https://www.oecd-ilibrary.org/environment/data/oecd-environment-statistics_env-data-en\n",
        "*   https://stackoverflow.com/questions/74283327/conversion-py2rpy-not-defined-for-objects-of-type-class-str/74414817\n",
        "\n",
        "\n",
        "\n",
        "\n"
      ],
      "metadata": {
        "id": "zMOXhed3NJ3C"
      }
    }
  ]
}